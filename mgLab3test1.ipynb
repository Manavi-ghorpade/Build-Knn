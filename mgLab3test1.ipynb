{
  "nbformat": 4,
  "nbformat_minor": 0,
  "metadata": {
    "colab": {
      "name": "Untitled0 (4).ipynb",
      "provenance": [],
      "collapsed_sections": []
    },
    "kernelspec": {
      "name": "python3",
      "display_name": "Python 3"
    },
    "language_info": {
      "name": "python"
    }
  },
  "cells": [
    {
      "cell_type": "markdown",
      "source": [
        "File Name:mgLab3test1.ipynb\n",
        "\n",
        "Name:Manavi Uttam Ghorpade\n",
        "\n",
        "Course:611\n",
        "\n",
        "Date:2/27/2022\n",
        "\n",
        "Program Description:program for TEST 2 – kNN CLASSIFIER"
      ],
      "metadata": {
        "id": "pa_OM6CrMMTv"
      }
    },
    {
      "cell_type": "code",
      "source": [
        "import numpy as np #used for numpy array\n",
        "from sklearn import datasets  #used for plotting\n",
        "from sklearn.model_selection import train_test_split #used for seprating data from dataset\n",
        "import matplotlib.pyplot as plt #used for plotting\n",
        "from sklearn.neighbors import KNeighborsClassifier #used for sklearn KNN"
      ],
      "metadata": {
        "id": "7q8Z2itp48uy"
      },
      "execution_count": 67,
      "outputs": []
    },
    {
      "cell_type": "code",
      "source": [
        "run Knn.py #run devloped knn file "
      ],
      "metadata": {
        "colab": {
          "base_uri": "https://localhost:8080/",
          "height": 34
        },
        "id": "MhjxaGk9BwYv",
        "outputId": "a1e17ed7-ad4e-4408-c466-4b9ffcf90e49"
      },
      "execution_count": 68,
      "outputs": [
        {
          "output_type": "display_data",
          "data": {
            "text/plain": [
              "<Figure size 432x288 with 0 Axes>"
            ]
          },
          "metadata": {}
        }
      ]
    },
    {
      "cell_type": "markdown",
      "source": [
        "Testing our custom KNN on Iris dataset"
      ],
      "metadata": {
        "id": "oY72vw3PPhgj"
      }
    },
    {
      "cell_type": "code",
      "source": [
        "iris = datasets.load_iris() #load data\n",
        "\n",
        "X = iris.data\n",
        "y = iris.target\n",
        "\n",
        "X_train, X_test, y_train, y_test = train_test_split(X, y, random_state=50) #split data\n",
        "classifier=knnBuild(\"classifier\",3)\n",
        "classifier.knnFit(X_train, y_train) #fit model\n",
        "result=classifier.knnPredict(X_test) \n",
        "print(\"Test set score of our model: {:.2f}\".format(np.mean(result == y_test))) #shows the accuracy of our model"
      ],
      "metadata": {
        "colab": {
          "base_uri": "https://localhost:8080/"
        },
        "id": "uioD8Yz7s7wC",
        "outputId": "de5b6d41-855f-4030-e8e8-1fa540d2cf9a"
      },
      "execution_count": 69,
      "outputs": [
        {
          "output_type": "stream",
          "name": "stdout",
          "text": [
            "Test set score of our model: 0.95\n"
          ]
        }
      ]
    },
    {
      "cell_type": "markdown",
      "source": [
        "Testing iris datset with Sklearn's KNN "
      ],
      "metadata": {
        "id": "IP56bq1tPo71"
      }
    },
    {
      "cell_type": "code",
      "source": [
        "#building sklearn KNN model\n",
        "knn = KNeighborsClassifier(n_neighbors=3)\n",
        "knn.fit(X_train, y_train)\n",
        "y_pred = knn.predict(X_test)\n",
        "print(\"Test set score of sklearn model: {:.2f}\".format(np.mean(y_pred == y_test)))"
      ],
      "metadata": {
        "colab": {
          "base_uri": "https://localhost:8080/"
        },
        "id": "Q90oQqjYUT4_",
        "outputId": "e2ec1b45-8ea1-404d-c929-6919c29c0c16"
      },
      "execution_count": 70,
      "outputs": [
        {
          "output_type": "stream",
          "name": "stdout",
          "text": [
            "Test set score of sklearn model: 0.95\n"
          ]
        }
      ]
    },
    {
      "cell_type": "markdown",
      "source": [
        "Plotting Dataset \n",
        "\n",
        "visualization of Data"
      ],
      "metadata": {
        "id": "KHBS1mNsPL08"
      }
    },
    {
      "cell_type": "code",
      "source": [
        "#plotting the Dataset using matplotlib\n",
        "#In the map Red color=setosa ,green=versicolor, blue=virginica\n",
        "x_data=X_train.shape[0]\n",
        "colors={0:'r',1:'g',2:'b'}\n",
        "fig,ax=plt.subplots()\n",
        "for i in range(x_data):\n",
        "  ax.scatter(X_train[i:,0],X_train[i:,1],color=colors[y_train[i]])\n",
        "ax.set_title('Iris Dataset')\n",
        "ax.set_xlabel('sepal length')\n",
        "ax.set_ylabel('sepal width') \n",
        "plt.legend(['setosa', 'versicolor','virginica'])\n",
        "fig1,ax1=plt.subplots()\n",
        "for i in range(x_data):\n",
        "  ax1.scatter(X_train[i:,2],X_train[i:,3],color=colors[y_train[i]])\n",
        "ax1.set_title('Iris Dataset')\n",
        "ax1.set_xlabel('petal length')\n",
        "ax1.set_ylabel('petal width')\n"
      ],
      "metadata": {
        "id": "W-El0l8JKFHT",
        "colab": {
          "base_uri": "https://localhost:8080/",
          "height": 590
        },
        "outputId": "b63e7d1a-e7b9-4cda-a34d-5bc849e065a7"
      },
      "execution_count": 71,
      "outputs": [
        {
          "output_type": "execute_result",
          "data": {
            "text/plain": [
              "Text(0, 0.5, 'petal width')"
            ]
          },
          "metadata": {},
          "execution_count": 71
        },
        {
          "output_type": "display_data",
          "data": {
            "image/png": "[encoded data removed]",
            "text/plain": [
              "<Figure size 432x288 with 1 Axes>"
            ]
          },
          "metadata": {
            "needs_background": "light"
          }
        },
        {
          "output_type": "display_data",
          "data": {
            "image/png": "[encoded data removed]",
            "text/plain": [
              "<Figure size 432x288 with 1 Axes>"
            ]
          },
          "metadata": {
            "needs_background": "light"
          }
        }
      ]
    }
  ]
}